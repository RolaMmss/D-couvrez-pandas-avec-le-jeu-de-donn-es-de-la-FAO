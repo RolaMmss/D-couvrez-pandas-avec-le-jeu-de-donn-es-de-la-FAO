{
 "cells": [
  {
   "cell_type": "code",
   "execution_count": 43,
   "metadata": {},
   "outputs": [],
   "source": [
    "import pandas as pd"
   ]
  },
  {
   "cell_type": "code",
   "execution_count": 44,
   "metadata": {},
   "outputs": [],
   "source": [
    "df_pop = pd.read_csv('df_pop.csv')\n",
    "df_anim = pd.read_csv('df_anim.csv')\n",
    "df_veg = pd.read_csv('df_veg.csv')"
   ]
  },
  {
   "attachments": {},
   "cell_type": "markdown",
   "metadata": {},
   "source": [
    "FBS : Bilans Alimentaires: Bilans Alimentaires (2010-)"
   ]
  },
  {
   "cell_type": "code",
   "execution_count": 45,
   "metadata": {},
   "outputs": [],
   "source": [
    "# 1.Nettoyer les titres de colonnes en supprimant les espaces au début et à la fin, en remplaçant les espaces par des underscores et en mettant tout en minuscule\n",
    "df_pop.columns = df_pop.columns.str.strip().str.lower().str.replace(' ', '_')\n",
    "df_anim.columns = df_anim.columns.str.strip().str.lower().str.replace(' ', '_')\n",
    "df_veg.columns = df_veg.columns.str.strip().str.lower().str.replace(' ', '_')"
   ]
  },
  {
   "cell_type": "code",
   "execution_count": 46,
   "metadata": {},
   "outputs": [
    {
     "name": "stdout",
     "output_type": "stream",
     "text": [
      "La dimension de df_pop est :  (366, 14)\n",
      "La dimension de df_anim est :  (31542, 14)\n",
      "La dimension de df_veg est :  (93458, 14)\n"
     ]
    }
   ],
   "source": [
    "#2.Quelle sont les dimensions des jeux de données ?\n",
    "print(\"La dimension de df_pop est : \",df_pop.shape)\n",
    "print(\"La dimension de df_anim est : \",df_anim.shape)\n",
    "print(\"La dimension de df_veg est : \",df_veg.shape)"
   ]
  },
  {
   "cell_type": "code",
   "execution_count": 47,
   "metadata": {},
   "outputs": [],
   "source": [
    "# Set the display option to show all columns\n",
    "pd.set_option('display.max_columns', None)"
   ]
  },
  {
   "cell_type": "code",
   "execution_count": 48,
   "metadata": {},
   "outputs": [
    {
     "name": "stdout",
     "output_type": "stream",
     "text": [
      "les 5 premières lignes de df_pop est :    domain_code                 domain  area_code_(m49)         area  \\\n",
      "0         FBS  Food Balances (2010-)                4  Afghanistan   \n",
      "1         FBS  Food Balances (2010-)                4  Afghanistan   \n",
      "2         FBS  Food Balances (2010-)                8      Albania   \n",
      "3         FBS  Food Balances (2010-)                8      Albania   \n",
      "4         FBS  Food Balances (2010-)               12      Algeria   \n",
      "\n",
      "   element_code                        element item_code_(cpc)        item  \\\n",
      "0           511  Total Population - Both sexes           S2501  Population   \n",
      "1           511  Total Population - Both sexes           S2501  Population   \n",
      "2           511  Total Population - Both sexes           S2501  Population   \n",
      "3           511  Total Population - Both sexes           S2501  Population   \n",
      "4           511  Total Population - Both sexes           S2501  Population   \n",
      "\n",
      "   year_code  year          unit     value flag  \\\n",
      "0       2018  2018  1000 persons  37172.00    X   \n",
      "1       2019  2019  1000 persons  38041.75    X   \n",
      "2       2018  2018  1000 persons   2883.00    X   \n",
      "3       2019  2019  1000 persons   2880.92    X   \n",
      "4       2018  2018  1000 persons  42228.00    X   \n",
      "\n",
      "                          flag_description  \n",
      "0  Figure from international organizations  \n",
      "1  Figure from international organizations  \n",
      "2  Figure from international organizations  \n",
      "3  Figure from international organizations  \n",
      "4  Figure from international organizations  \n",
      "les 5 premières lignes de df_anim est :    domain_code                 domain  area_code_(m49)         area  \\\n",
      "0         FBS  Food Balances (2010-)                4  Afghanistan   \n",
      "1         FBS  Food Balances (2010-)                4  Afghanistan   \n",
      "2         FBS  Food Balances (2010-)                4  Afghanistan   \n",
      "3         FBS  Food Balances (2010-)                4  Afghanistan   \n",
      "4         FBS  Food Balances (2010-)                4  Afghanistan   \n",
      "\n",
      "   element_code                                 element  item_code_(fao)  \\\n",
      "0           645     Food supply quantity (kg/capita/yr)             2731   \n",
      "1           645     Food supply quantity (kg/capita/yr)             2731   \n",
      "2           664           Food supply (kcal/capita/day)             2731   \n",
      "3           664           Food supply (kcal/capita/day)             2731   \n",
      "4           674  Protein supply quantity (g/capita/day)             2731   \n",
      "\n",
      "          item  year_code  year             unit  value flag flag_description  \n",
      "0  Bovine Meat       2018  2018               kg   2.62    E  Estimated value  \n",
      "1  Bovine Meat       2019  2019               kg   2.73    E  Estimated value  \n",
      "2  Bovine Meat       2018  2018  kcal/capita/day  15.42    E  Estimated value  \n",
      "3  Bovine Meat       2019  2019  kcal/capita/day  16.03    E  Estimated value  \n",
      "4  Bovine Meat       2018  2018     g/capita/day   1.09    E  Estimated value  \n",
      "les 5 premières lignes de df_veg est :    domain_code                 domain  area_code_(m49)         area  \\\n",
      "0         FBS  Food Balances (2010-)                4  Afghanistan   \n",
      "1         FBS  Food Balances (2010-)                4  Afghanistan   \n",
      "2         FBS  Food Balances (2010-)                4  Afghanistan   \n",
      "3         FBS  Food Balances (2010-)                4  Afghanistan   \n",
      "4         FBS  Food Balances (2010-)                4  Afghanistan   \n",
      "\n",
      "   element_code                                 element  item_code_(fao)  \\\n",
      "0           645     Food supply quantity (kg/capita/yr)             2511   \n",
      "1           645     Food supply quantity (kg/capita/yr)             2511   \n",
      "2           664           Food supply (kcal/capita/day)             2511   \n",
      "3           664           Food supply (kcal/capita/day)             2511   \n",
      "4           674  Protein supply quantity (g/capita/day)             2511   \n",
      "\n",
      "                 item  year_code  year             unit    value flag  \\\n",
      "0  Wheat and products       2018  2018               kg   160.12    E   \n",
      "1  Wheat and products       2019  2019               kg   158.95    E   \n",
      "2  Wheat and products       2018  2018  kcal/capita/day  1372.02    E   \n",
      "3  Wheat and products       2019  2019  kcal/capita/day  1361.66    E   \n",
      "4  Wheat and products       2018  2018     g/capita/day    37.00    E   \n",
      "\n",
      "  flag_description  \n",
      "0  Estimated value  \n",
      "1  Estimated value  \n",
      "2  Estimated value  \n",
      "3  Estimated value  \n",
      "4  Estimated value  \n"
     ]
    }
   ],
   "source": [
    "# 3.A quoi ressemblent les 5 premières lignes de mes jeux de données ?\n",
    "print(\"les 5 premières lignes de df_pop est : \",df_pop.head(5))\n",
    "print(\"les 5 premières lignes de df_anim est : \",df_anim.head(5))\n",
    "print(\"les 5 premières lignes de df_veg est : \",df_veg.head(5))"
   ]
  },
  {
   "cell_type": "code",
   "execution_count": 49,
   "metadata": {},
   "outputs": [],
   "source": [
    "#4.Pour les datasets df_anim et df_veg, ajoutez une colonne ‘type’ qui prendra respectivement une valeur ‘animal’ et ‘vegetal’. \n",
    "df_anim = df_anim.assign(type='animal')\n",
    "df_veg = df_veg.assign(type='vegetal')\n",
    "#Regroupez les deux jeux de données en 1 et appelez ce DataFrame product. Attention à bien comprendre la structure des données pour utiliser la bonne méthode."
   ]
  }
 ],
 "metadata": {
  "kernelspec": {
   "display_name": "machine_learning",
   "language": "python",
   "name": "python3"
  },
  "language_info": {
   "codemirror_mode": {
    "name": "ipython",
    "version": 3
   },
   "file_extension": ".py",
   "mimetype": "text/x-python",
   "name": "python",
   "nbconvert_exporter": "python",
   "pygments_lexer": "ipython3",
   "version": "3.10.9"
  },
  "orig_nbformat": 4,
  "vscode": {
   "interpreter": {
    "hash": "6372ac1f96e6a574de8fb7db2482e4b51a9c7365ff441969ce58324c2dcfaf16"
   }
  }
 },
 "nbformat": 4,
 "nbformat_minor": 2
}
